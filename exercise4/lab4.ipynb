{
 "cells": [
  {
   "cell_type": "code",
   "execution_count": 1,
   "id": "8db19ff1",
   "metadata": {},
   "outputs": [],
   "source": [
    "import pandas as pd\n",
    "import numpy as np"
   ]
  },
  {
   "cell_type": "code",
   "execution_count": 2,
   "id": "857c8e11",
   "metadata": {},
   "outputs": [
    {
     "name": "stdout",
     "output_type": "stream",
     "text": [
      "1. List to Series:\n",
      " 0    10\n",
      "1    20\n",
      "2    30\n",
      "3    40\n",
      "4    50\n",
      "dtype: int64 \n",
      "\n"
     ]
    }
   ],
   "source": [
    "# 1. List-to-Series Conversion\n",
    "my_list = [10, 20, 30, 40, 50]\n",
    "series = pd.Series(my_list)\n",
    "print(\"1. List to Series:\\n\", series, \"\\n\")\n"
   ]
  },
  {
   "cell_type": "code",
   "execution_count": 3,
   "id": "b19bac60",
   "metadata": {},
   "outputs": [
    {
     "name": "stdout",
     "output_type": "stream",
     "text": [
      "2. Date Series:\n",
      " DatetimeIndex(['2021-05-01', '2021-05-02', '2021-05-03', '2021-05-04',\n",
      "               '2021-05-05', '2021-05-06', '2021-05-07', '2021-05-08',\n",
      "               '2021-05-09', '2021-05-10', '2021-05-11', '2021-05-12'],\n",
      "              dtype='datetime64[ns]', freq='D') \n",
      "\n"
     ]
    }
   ],
   "source": [
    "# 2. Generate series of dates from 1st May 2021 to 12th May 2021\n",
    "date_series = pd.date_range(start=\"2021-05-01\", end=\"2021-05-12\")\n",
    "print(\"2. Date Series:\\n\", date_series, \"\\n\")\n"
   ]
  },
  {
   "cell_type": "code",
   "execution_count": 3,
   "id": "8dd5f454",
   "metadata": {},
   "outputs": [
    {
     "name": "stdout",
     "output_type": "stream",
     "text": [
      "3. Dictionary to DataFrame:\n",
      "     Name  Age\n",
      "0   Sana   23\n",
      "1   Asha   25\n",
      "2  Rahul   21 \n",
      "\n"
     ]
    }
   ],
   "source": [
    "# 3. Dictionary to DataFrame\n",
    "my_dict = {'Name': ['Sana', 'Asha', 'Rahul'], 'Age': [23, 25, 21]}\n",
    "df_dict = pd.DataFrame(my_dict)\n",
    "print(\"3. Dictionary to DataFrame:\\n\", df_dict, \"\\n\")\n"
   ]
  },
  {
   "cell_type": "code",
   "execution_count": 5,
   "id": "90477b0f",
   "metadata": {},
   "outputs": [
    {
     "name": "stdout",
     "output_type": "stream",
     "text": [
      "4. 2D List to DataFrame:\n",
      "    ID   Fruit\n",
      "0   1   Apple\n",
      "1   2  Banana\n",
      "2   3   Mango \n",
      "\n"
     ]
    }
   ],
   "source": [
    "# 4. 2D List to DataFrame\n",
    "my_2dlist = [[1, 'Apple'], [2, 'Banana'], [3, 'Mango']]\n",
    "df_list = pd.DataFrame(my_2dlist, columns=['ID', 'Fruit'])\n",
    "print(\"4. 2D List to DataFrame:\\n\", df_list, \"\\n\")\n"
   ]
  },
  {
   "cell_type": "code",
   "execution_count": 4,
   "id": "1c6d20dc",
   "metadata": {},
   "outputs": [
    {
     "name": "stdout",
     "output_type": "stream",
     "text": [
      "5. Read CSV into DataFrame:\n",
      "    A  B\n",
      "0  1  x\n",
      "1  2  y\n",
      "2  3  z \n",
      "\n"
     ]
    }
   ],
   "source": [
    "# 5. Read CSV into DataFrame (using a sample CSV created here)\n",
    "df_csv = pd.DataFrame({\n",
    "    'A': [1, 2, 3],\n",
    "    'B': ['x', 'y', 'z']\n",
    "})\n",
    "df_csv.to_csv(\"sample.csv\", index=False)\n",
    "df_read = pd.read_csv(\"sample.csv\")\n",
    "print(\"5. Read CSV into DataFrame:\\n\", df_read, \"\\n\")"
   ]
  },
  {
   "cell_type": "code",
   "execution_count": 7,
   "id": "1e9c8510",
   "metadata": {},
   "outputs": [
    {
     "name": "stdout",
     "output_type": "stream",
     "text": [
      "6. Sorted DataFrame:\n",
      "     Name  Age  Salary\n",
      "2  Rahul   21   45000\n",
      "3  Rahul   21   47000\n",
      "0   Sana   23   50000\n",
      "1   Asha   25   60000 \n",
      "\n"
     ]
    }
   ],
   "source": [
    "# 6. Sort DataFrame by multiple columns\n",
    "df_sort = pd.DataFrame({\n",
    "    'Name': ['Sana', 'Asha', 'Rahul', 'Rahul'],\n",
    "    'Age': [23, 25, 21, 21],\n",
    "    'Salary': [50000, 60000, 45000, 47000]\n",
    "})\n",
    "print(\"6. Sorted DataFrame:\\n\", df_sort.sort_values(by=['Age', 'Salary']), \"\\n\")\n"
   ]
  },
  {
   "cell_type": "code",
   "execution_count": 5,
   "id": "f1080b30",
   "metadata": {},
   "outputs": [
    {
     "name": "stdout",
     "output_type": "stream",
     "text": [
      "7. Before resetting index:\n",
      "     Name\n",
      "a   Sana\n",
      "b   Asha\n",
      "c  Rahul\n",
      "After resetting index:\n",
      "     Name\n",
      "0   Sana\n",
      "1   Asha\n",
      "2  Rahul \n",
      "\n"
     ]
    }
   ],
   "source": [
    "# 7. Convert custom indexing to default indexing\n",
    "df_custom = pd.DataFrame({'Name': ['Sana', 'Asha', 'Rahul']}, index=['a', 'b', 'c'])\n",
    "print(\"7. Before resetting index:\\n\", df_custom)\n",
    "df_default = df_custom.reset_index(drop=True)\n",
    "print(\"After resetting index:\\n\", df_default, \"\\n\")\n"
   ]
  },
  {
   "cell_type": "code",
   "execution_count": 9,
   "id": "c6ab48ba",
   "metadata": {},
   "outputs": [
    {
     "name": "stdout",
     "output_type": "stream",
     "text": [
      "8. First 2 rows:\n",
      "    Name  Age  Salary\n",
      "0  Sana   23   50000\n",
      "1  Asha   25   60000 \n",
      "\n"
     ]
    }
   ],
   "source": [
    "# 8. Select first 2 rows of a DataFrame\n",
    "print(\"8. First 2 rows:\\n\", df_sort.head(2), \"\\n\")\n"
   ]
  },
  {
   "cell_type": "code",
   "execution_count": 6,
   "id": "e0b7834d",
   "metadata": {},
   "outputs": [
    {
     "name": "stdout",
     "output_type": "stream",
     "text": [
      "9. Average Salary per Occupation:\n",
      " Occupation\n",
      "Doc    75000.0\n",
      "Eng    55000.0\n",
      "Name: Salary, dtype: float64 \n",
      "\n"
     ]
    }
   ],
   "source": [
    "\n",
    "# 9. Average salary per occupation\n",
    "df_occ = pd.DataFrame({\n",
    "    'Name': ['A', 'B', 'C', 'D'],\n",
    "    'Occupation': ['Eng', 'Doc', 'Eng', 'Doc'],\n",
    "    'Salary': [50000, 70000, 60000, 80000]\n",
    "})\n",
    "print(\"9. Average Salary per Occupation:\\n\", df_occ.groupby('Occupation')['Salary'].mean(), \"\\n\")"
   ]
  },
  {
   "cell_type": "code",
   "execution_count": 11,
   "id": "9552a390",
   "metadata": {},
   "outputs": [
    {
     "name": "stdout",
     "output_type": "stream",
     "text": [
      "10. Before fillna:\n",
      "      A    B\n",
      "0  1.0  NaN\n",
      "1  NaN  5.0\n",
      "2  3.0  6.0\n",
      "After fillna:\n",
      "      A    B\n",
      "0  1.0  0.0\n",
      "1  0.0  5.0\n",
      "2  3.0  6.0 \n",
      "\n"
     ]
    }
   ],
   "source": [
    "# 10. Fill NaN values with 0\n",
    "df_nan = pd.DataFrame({'A': [1, np.nan, 3], 'B': [np.nan, 5, 6]})\n",
    "print(\"10. Before fillna:\\n\", df_nan)\n",
    "print(\"After fillna:\\n\", df_nan.fillna(0), \"\\n\")"
   ]
  },
  {
   "cell_type": "code",
   "execution_count": 7,
   "id": "fd8b5502",
   "metadata": {},
   "outputs": [
    {
     "name": "stdout",
     "output_type": "stream",
     "text": [
      "11. Profit >0 to True/False:\n",
      "   cname  profit\n",
      "0     X    True\n",
      "1     Y   False\n",
      "2     Z   False \n",
      "\n"
     ]
    }
   ],
   "source": [
    "# 11. Convert Profit column >0 -> True else False\n",
    "df_profit = pd.DataFrame({'cname': ['X', 'Y', 'Z'], 'profit': [200, -100, 0]})\n",
    "df_profit['profit'] = df_profit['profit'] > 0\n",
    "print(\"11. Profit >0 to True/False:\\n\", df_profit, \"\\n\")\n"
   ]
  },
  {
   "cell_type": "code",
   "execution_count": 13,
   "id": "21387f16",
   "metadata": {},
   "outputs": [
    {
     "name": "stdout",
     "output_type": "stream",
     "text": [
      "12. Merged DataFrame:\n",
      "    eid  ename  stipend designation\n",
      "0    1   Asha    10000      Intern\n",
      "1    2   Sana    12000   Developer\n",
      "2    3  Rahul    11000     Analyst \n",
      "\n"
     ]
    }
   ],
   "source": [
    "# 12. Merge two DataFrames\n",
    "df_emp1 = pd.DataFrame({\n",
    "    'eid': [1, 2, 3],\n",
    "    'ename': ['Asha', 'Sana', 'Rahul'],\n",
    "    'stipend': [10000, 12000, 11000]\n",
    "})\n",
    "df_emp2 = pd.DataFrame({\n",
    "    'eid': [1, 2, 3],\n",
    "    'designation': ['Intern', 'Developer', 'Analyst']\n",
    "})\n",
    "df_merged = pd.merge(df_emp1, df_emp2, on='eid')\n",
    "print(\"12. Merged DataFrame:\\n\", df_merged, \"\\n\")"
   ]
  },
  {
   "cell_type": "code",
   "execution_count": null,
   "id": "5778fe58",
   "metadata": {},
   "outputs": [],
   "source": []
  }
 ],
 "metadata": {
  "kernelspec": {
   "display_name": "base",
   "language": "python",
   "name": "python3"
  },
  "language_info": {
   "codemirror_mode": {
    "name": "ipython",
    "version": 3
   },
   "file_extension": ".py",
   "mimetype": "text/x-python",
   "name": "python",
   "nbconvert_exporter": "python",
   "pygments_lexer": "ipython3",
   "version": "3.12.4"
  }
 },
 "nbformat": 4,
 "nbformat_minor": 5
}
